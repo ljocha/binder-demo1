{
 "cells": [
  {
   "cell_type": "code",
   "execution_count": null,
   "id": "a640418c-fc0d-4415-b02a-73e506fe0eb2",
   "metadata": {},
   "outputs": [],
   "source": [
    "import numpy as np\n",
    "import matplotlib.pyplot as plt"
   ]
  },
  {
   "cell_type": "code",
   "execution_count": null,
   "id": "84615398-ada0-41a0-9fa6-c2749ba9b16d",
   "metadata": {},
   "outputs": [],
   "source": [
    "th=np.loadtxt('hare.txt')\n",
    "t_hare = th.T[0]\n",
    "x_hare = th.T[1]"
   ]
  },
  {
   "cell_type": "code",
   "execution_count": null,
   "id": "664ab8fd-b5b3-4841-8256-3f6fcb0e6fbc",
   "metadata": {},
   "outputs": [],
   "source": [
    "def plt_lin_reg(time,measure,model,xlabel='time',ylabel='position'):\n",
    "    plt.figure(figsize=(15,10))\n",
    "    plt.scatter(time,measure,marker='.')\n",
    "    plt.plot(time,model,c='red')\n",
    "    plt.xlabel(xlabel)\n",
    "    plt.ylabel(ylabel)"
   ]
  },
  {
   "cell_type": "code",
   "execution_count": null,
   "id": "2713e8af-0728-4e55-91b8-c5daed771c71",
   "metadata": {},
   "outputs": [],
   "source": [
    "v = np.sum(x_hare*t_hare) / np.sum(t_hare**2)\n",
    "print(\"v = \",v)\n",
    "x_mod_hare=t_hare*v\n",
    "plt_lin_reg(t_hare,x_hare,x_mod_hare)"
   ]
  },
  {
   "cell_type": "code",
   "execution_count": null,
   "id": "e1480f96-426f-482b-87c9-c603fcc27e42",
   "metadata": {},
   "outputs": [],
   "source": []
  }
 ],
 "metadata": {
  "kernelspec": {
   "display_name": "Python 3",
   "language": "python",
   "name": "python3"
  },
  "language_info": {
   "codemirror_mode": {
    "name": "ipython",
    "version": 3
   },
   "file_extension": ".py",
   "mimetype": "text/x-python",
   "name": "python",
   "nbconvert_exporter": "python",
   "pygments_lexer": "ipython3",
   "version": "3.7.10"
  }
 },
 "nbformat": 4,
 "nbformat_minor": 5
}
